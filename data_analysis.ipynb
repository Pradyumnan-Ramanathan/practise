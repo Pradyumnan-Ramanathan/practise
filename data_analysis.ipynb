{
 "cells": [
  {
   "cell_type": "code",
   "execution_count": 1,
   "id": "801737bf",
   "metadata": {},
   "outputs": [
    {
     "name": "stdout",
     "output_type": "stream",
     "text": [
      "ankara\n"
     ]
    }
   ],
   "source": [
    "print(\"ankara\")"
   ]
  },
  {
   "cell_type": "code",
   "execution_count": 2,
   "id": "89aad095",
   "metadata": {},
   "outputs": [],
   "source": [
    "import numpy as np\n",
    "import pandas as pd"
   ]
  },
  {
   "cell_type": "code",
   "execution_count": 4,
   "id": "b4c3bcce",
   "metadata": {},
   "outputs": [],
   "source": [
    "df=pd.read_csv(r\"C:\\Users\\sowmi\\OneDrive\\Desktop\\content\\breast_images\\Breast_Cancer.csv\")"
   ]
  },
  {
   "cell_type": "code",
   "execution_count": 5,
   "id": "ed05fb5b",
   "metadata": {},
   "outputs": [
    {
     "name": "stdout",
     "output_type": "stream",
     "text": [
      "<bound method NDFrame.head of       Age   Race Marital Status T Stage  N Stage 6th Stage  \\\n",
      "0      68  White        Married       T1      N1       IIA   \n",
      "1      50  White        Married       T2      N2      IIIA   \n",
      "2      58  White       Divorced       T3      N3      IIIC   \n",
      "3      58  White        Married       T1      N1       IIA   \n",
      "4      47  White        Married       T2      N1       IIB   \n",
      "...   ...    ...            ...      ...     ...       ...   \n",
      "4019   62  Other        Married       T1      N1       IIA   \n",
      "4020   56  White       Divorced       T2      N2      IIIA   \n",
      "4021   68  White        Married       T2      N1       IIB   \n",
      "4022   58  Black       Divorced       T2      N1       IIB   \n",
      "4023   46  White        Married       T2      N1       IIB   \n",
      "\n",
      "                  differentiate Grade   A Stage  Tumor Size Estrogen Status  \\\n",
      "0         Poorly differentiated     3  Regional           4        Positive   \n",
      "1     Moderately differentiated     2  Regional          35        Positive   \n",
      "2     Moderately differentiated     2  Regional          63        Positive   \n",
      "3         Poorly differentiated     3  Regional          18        Positive   \n",
      "4         Poorly differentiated     3  Regional          41        Positive   \n",
      "...                         ...   ...       ...         ...             ...   \n",
      "4019  Moderately differentiated     2  Regional           9        Positive   \n",
      "4020  Moderately differentiated     2  Regional          46        Positive   \n",
      "4021  Moderately differentiated     2  Regional          22        Positive   \n",
      "4022  Moderately differentiated     2  Regional          44        Positive   \n",
      "4023  Moderately differentiated     2  Regional          30        Positive   \n",
      "\n",
      "     Progesterone Status  Regional Node Examined  Reginol Node Positive  \\\n",
      "0               Positive                      24                      1   \n",
      "1               Positive                      14                      5   \n",
      "2               Positive                      14                      7   \n",
      "3               Positive                       2                      1   \n",
      "4               Positive                       3                      1   \n",
      "...                  ...                     ...                    ...   \n",
      "4019            Positive                       1                      1   \n",
      "4020            Positive                      14                      8   \n",
      "4021            Negative                      11                      3   \n",
      "4022            Positive                      11                      1   \n",
      "4023            Positive                       7                      2   \n",
      "\n",
      "      Survival Months Status  \n",
      "0                  60  Alive  \n",
      "1                  62  Alive  \n",
      "2                  75  Alive  \n",
      "3                  84  Alive  \n",
      "4                  50  Alive  \n",
      "...               ...    ...  \n",
      "4019               49  Alive  \n",
      "4020               69  Alive  \n",
      "4021               69  Alive  \n",
      "4022               72  Alive  \n",
      "4023              100  Alive  \n",
      "\n",
      "[4024 rows x 16 columns]>\n"
     ]
    }
   ],
   "source": [
    "print(df.head)"
   ]
  },
  {
   "cell_type": "code",
   "execution_count": null,
   "id": "81f2b951",
   "metadata": {},
   "outputs": [],
   "source": []
  }
 ],
 "metadata": {
  "kernelspec": {
   "display_name": "Python 3",
   "language": "python",
   "name": "python3"
  },
  "language_info": {
   "codemirror_mode": {
    "name": "ipython",
    "version": 3
   },
   "file_extension": ".py",
   "mimetype": "text/x-python",
   "name": "python",
   "nbconvert_exporter": "python",
   "pygments_lexer": "ipython3",
   "version": "3.12.9"
  }
 },
 "nbformat": 4,
 "nbformat_minor": 5
}
